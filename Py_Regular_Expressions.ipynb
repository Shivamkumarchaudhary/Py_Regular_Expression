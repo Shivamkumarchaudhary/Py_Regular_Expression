{
 "cells": [
  {
   "cell_type": "code",
   "execution_count": 2,
   "id": "f330bb68",
   "metadata": {},
   "outputs": [
    {
     "name": "stdout",
     "output_type": "stream",
     "text": [
      "Match found\n"
     ]
    }
   ],
   "source": [
    "import re   # regular_expression\n",
    "\n",
    "pattern = r\"eggs\"    # rostering\n",
    "\n",
    "if re.match(pattern, \"eggseggseggs\"):\n",
    "    print(\"Match found\")\n",
    "else:\n",
    "    print(\"No match found\")"
   ]
  },
  {
   "cell_type": "code",
   "execution_count": 3,
   "id": "2330c294",
   "metadata": {},
   "outputs": [
    {
     "name": "stdout",
     "output_type": "stream",
     "text": [
      "match found\n"
     ]
    }
   ],
   "source": [
    "import re\n",
    "\n",
    "pattern = r\"eggs\"\n",
    "\n",
    "if re.match(pattern, \"eggseggsback\"):\n",
    "    print(\"match found\")\n",
    "else:\n",
    "    print(\"no match found\")\n"
   ]
  },
  {
   "cell_type": "code",
   "execution_count": 5,
   "id": "14bb5173",
   "metadata": {},
   "outputs": [
    {
     "name": "stdout",
     "output_type": "stream",
     "text": [
      "match not found\n"
     ]
    }
   ],
   "source": [
    "import re\n",
    "\n",
    "pattern =r'eggs'\n",
    "\n",
    "if re.match(pattern, \"backeggseggseggs\"):\n",
    "    print(\"match found\")\n",
    "else:\n",
    "    print(\"match not found\")"
   ]
  },
  {
   "cell_type": "code",
   "execution_count": 7,
   "id": "861a8a09",
   "metadata": {},
   "outputs": [
    {
     "name": "stdout",
     "output_type": "stream",
     "text": [
      "match found\n"
     ]
    }
   ],
   "source": [
    "import re\n",
    "\n",
    "pattern = r'eggs'\n",
    "\n",
    "if re.match(pattern, \"eggsback\"):\n",
    "    print(\"match found\")\n",
    "    \n",
    "else:\n",
    "    print(\"match not found\")"
   ]
  },
  {
   "cell_type": "markdown",
   "id": "a0cf9cfe",
   "metadata": {},
   "source": [
    "### Search and find all"
   ]
  },
  {
   "cell_type": "code",
   "execution_count": 9,
   "id": "32955fe3",
   "metadata": {},
   "outputs": [
    {
     "name": "stdout",
     "output_type": "stream",
     "text": [
      "not match found\n",
      "match found\n"
     ]
    }
   ],
   "source": [
    "import re\n",
    "\n",
    "pattern = r'eggs'\n",
    "\n",
    "if re.match(pattern,'closeeggseggseggs'):\n",
    "    print('match found')\n",
    "else:\n",
    "    print('not match found')\n",
    "    \n",
    "    \n",
    "import re\n",
    "\n",
    "pattern = r'eggs'\n",
    "\n",
    "if re.search(pattern,'closeeggseggseggs'):\n",
    "    print('match found')\n",
    "else:\n",
    "    print('not match found')"
   ]
  },
  {
   "cell_type": "code",
   "execution_count": 1,
   "id": "8373f3e2",
   "metadata": {},
   "outputs": [
    {
     "name": "stdout",
     "output_type": "stream",
     "text": [
      "not match found\n",
      "match found\n",
      "['eggs', 'eggs', 'eggs', 'eggs']\n"
     ]
    }
   ],
   "source": [
    "import re\n",
    "\n",
    "pattern = r'eggs'\n",
    "\n",
    "if re.match(pattern,'closeeggseggseggs'):\n",
    "    print('match found')\n",
    "else:\n",
    "    print('not match found')\n",
    "    \n",
    "    \n",
    "import re\n",
    "\n",
    "pattern = r'eggs'\n",
    "\n",
    "if re.search(pattern,'closeeggseggseggs'):\n",
    "    print('match found')\n",
    "else:\n",
    "    print('not match found')\n",
    "    \n",
    "    \n",
    "print(re.findall(pattern,'closeeggseggseggseggs'))"
   ]
  },
  {
   "cell_type": "markdown",
   "id": "8bc7fcf2",
   "metadata": {},
   "source": [
    "###  Find and replace"
   ]
  },
  {
   "cell_type": "code",
   "execution_count": 2,
   "id": "1a9309d6",
   "metadata": {},
   "outputs": [
    {
     "name": "stdout",
     "output_type": "stream",
     "text": [
      "My name is Rajeev, Hi I'm Rajeev\n"
     ]
    }
   ],
   "source": [
    "import re\n",
    "\n",
    "string = \"My name is Uday, Hi I'm Uday\"\n",
    "pattern = r'Uday'\n",
    "newstring = re.sub(pattern,'Rajeev',string)\n",
    "print(newstring)"
   ]
  },
  {
   "cell_type": "markdown",
   "id": "8c54cc2e",
   "metadata": {},
   "source": [
    "###  The dot metacharacter"
   ]
  },
  {
   "cell_type": "code",
   "execution_count": 3,
   "id": "73a3cfd7",
   "metadata": {},
   "outputs": [
    {
     "name": "stdout",
     "output_type": "stream",
     "text": [
      "match found\n"
     ]
    }
   ],
   "source": [
    "import re\n",
    "\n",
    "pattern = r\"gr.y\"\n",
    "\n",
    "if re.match(pattern,\"gray\"):\n",
    "    print(\"match found\")\n",
    "    \n",
    "else:\n",
    "    print(\"not match found\")\n"
   ]
  },
  {
   "cell_type": "code",
   "execution_count": 4,
   "id": "dc77d443",
   "metadata": {},
   "outputs": [
    {
     "name": "stdout",
     "output_type": "stream",
     "text": [
      "match found\n"
     ]
    }
   ],
   "source": [
    "import re\n",
    "\n",
    "pattern = r'gr.y'\n",
    "\n",
    "if re.match(pattern,'grayclose'):\n",
    "    print(\"match found\")\n",
    "else:\n",
    "    print(\"not match found\")\n"
   ]
  },
  {
   "cell_type": "code",
   "execution_count": 5,
   "id": "076572c3",
   "metadata": {},
   "outputs": [
    {
     "name": "stdout",
     "output_type": "stream",
     "text": [
      "not match found\n"
     ]
    }
   ],
   "source": [
    "import re\n",
    "\n",
    "pattern = r'gr.y'\n",
    "\n",
    "if re.match(pattern,'closegrayclose'):\n",
    "    print(\"match found\")\n",
    "else:\n",
    "    print(\"not match found\")\n"
   ]
  },
  {
   "cell_type": "markdown",
   "id": "a009eb89",
   "metadata": {},
   "source": [
    "###  Character Class"
   ]
  },
  {
   "cell_type": "code",
   "execution_count": 16,
   "id": "4b431a7b",
   "metadata": {},
   "outputs": [
    {
     "name": "stdout",
     "output_type": "stream",
     "text": [
      "match found\n"
     ]
    }
   ],
   "source": [
    "import re\n",
    "\n",
    "pattern = r'[A-Z][a-z][0-9]'\n",
    "\n",
    "if re.search(pattern, \"1Ab7\"):\n",
    "    print(\"match found\")\n",
    "else:\n",
    "    print('not match found')"
   ]
  },
  {
   "cell_type": "code",
   "execution_count": 17,
   "id": "191559bc",
   "metadata": {},
   "outputs": [
    {
     "name": "stdout",
     "output_type": "stream",
     "text": [
      "not match found\n"
     ]
    }
   ],
   "source": [
    "import re\n",
    "\n",
    "pattern = r'[A-Z][a-z][0-9]'\n",
    "\n",
    "if re.search(pattern, \"1A4b7\"):\n",
    "    print(\"match found\")\n",
    "else:\n",
    "    print('not match found')"
   ]
  }
 ],
 "metadata": {
  "kernelspec": {
   "display_name": "Python 3 (ipykernel)",
   "language": "python",
   "name": "python3"
  },
  "language_info": {
   "codemirror_mode": {
    "name": "ipython",
    "version": 3
   },
   "file_extension": ".py",
   "mimetype": "text/x-python",
   "name": "python",
   "nbconvert_exporter": "python",
   "pygments_lexer": "ipython3",
   "version": "3.9.12"
  }
 },
 "nbformat": 4,
 "nbformat_minor": 5
}
